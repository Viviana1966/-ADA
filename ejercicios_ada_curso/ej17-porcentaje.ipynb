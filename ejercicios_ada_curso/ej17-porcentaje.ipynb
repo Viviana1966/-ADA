{
 "cells": [
  {
   "cell_type": "code",
   "execution_count": 1,
   "metadata": {},
   "outputs": [
    {
     "name": "stdout",
     "output_type": "stream",
     "text": [
      "El 15 % de 100 es: 15.0 \n"
     ]
    }
   ],
   "source": [
    "def calcular_porcentaje(num,porcen):\n",
    "    porcentaje =(porcen * num) / 100\n",
    "    print(\"El {} % de {} es: {} \".format(porcen, num ,porcentaje) )\n",
    "\n",
    "calcular_porcentaje(100,15)"
   ]
  },
  {
   "cell_type": "code",
   "execution_count": 1,
   "metadata": {},
   "outputs": [
    {
     "name": "stdout",
     "output_type": "stream",
     "text": [
      "la suma del nummero con la del porcentaje es : 220.0 \n"
     ]
    }
   ],
   "source": [
    "def sumar_porcentaje(num,porcen):\n",
    "    porcentaje =(porcen * num) / 100\n",
    "    suma = num + porcentaje\n",
    "    print(\"la suma del nummero con la del porcentaje es : {} \".format(suma))\n",
    "\n",
    "sumar_porcentaje(200, 10)"
   ]
  },
  {
   "cell_type": "code",
   "execution_count": 2,
   "metadata": {},
   "outputs": [
    {
     "name": "stdout",
     "output_type": "stream",
     "text": [
      "la suma del nummero con la del porcentaje es : 115.0 \n"
     ]
    }
   ],
   "source": [
    "def sumar_porcentaje(num,porcen):\n",
    "    porcentaje =(porcen * num) / 100\n",
    "    suma = num + porcentaje\n",
    "    print(\"la suma del nummero con la del porcentaje es : {} \".format(suma))\n",
    "\n",
    "sumar_porcentaje(100,15)"
   ]
  },
  {
   "cell_type": "code",
   "execution_count": 4,
   "metadata": {},
   "outputs": [
    {
     "name": "stdout",
     "output_type": "stream",
     "text": [
      "la resta del nummero con la del porcentaje es : 5.0 \n"
     ]
    }
   ],
   "source": [
    "def restar_porcentaje(num,porcen):\n",
    "    porcentaje =(porcen * num) / 100\n",
    "    resta = num - porcentaje\n",
    "    print(\"la resta del nummero con la del porcentaje es : {} \".format(resta))\n",
    "\n",
    "restar_porcentaje(10, 50)"
   ]
  },
  {
   "cell_type": "code",
   "execution_count": 5,
   "metadata": {},
   "outputs": [
    {
     "name": "stdout",
     "output_type": "stream",
     "text": [
      "la resta del nummero con la del porcentaje es : 180.0 \n"
     ]
    }
   ],
   "source": [
    "def restar_porcentaje(num,porcen):\n",
    "    porcentaje =(porcen * num) / 100\n",
    "    resta = num - porcentaje\n",
    "    print(\"la resta del nummero con la del porcentaje es : {} \".format(resta))\n",
    "\n",
    "restar_porcentaje(200, 10)"
   ]
  },
  {
   "cell_type": "code",
   "execution_count": 7,
   "metadata": {},
   "outputs": [
    {
     "name": "stdout",
     "output_type": "stream",
     "text": [
      "la resta del nummero con la del porcentaje es : 85.0 \n"
     ]
    }
   ],
   "source": [
    "def restar_porcentaje(num,porcen):\n",
    "    porcentaje =(porcen * num) / 100\n",
    "    resta = num - porcentaje\n",
    "    print(\"la resta del nummero con la del porcentaje es : {} \".format(resta))\n",
    "\n",
    "restar_porcentaje(100,15)"
   ]
  },
  {
   "cell_type": "code",
   "execution_count": 8,
   "metadata": {},
   "outputs": [
    {
     "name": "stdout",
     "output_type": "stream",
     "text": [
      "la suma del nummero con la del porcentaje es : 115.0 \n"
     ]
    }
   ],
   "source": [
    "def sumar_porcentaje(num,porcen):\n",
    "    porcentaje =(porcen * num) / 100\n",
    "    suma = num + porcentaje\n",
    "    print(\"la suma del nummero con la del porcentaje es : {} \".format(suma))\n",
    "\n",
    "sumar_porcentaje(100,15)"
   ]
  }
 ],
 "metadata": {
  "kernelspec": {
   "display_name": "Python 3.8.10 64-bit",
   "language": "python",
   "name": "python3"
  },
  "language_info": {
   "codemirror_mode": {
    "name": "ipython",
    "version": 3
   },
   "file_extension": ".py",
   "mimetype": "text/x-python",
   "name": "python",
   "nbconvert_exporter": "python",
   "pygments_lexer": "ipython3",
   "version": "3.8.10"
  },
  "orig_nbformat": 4,
  "vscode": {
   "interpreter": {
    "hash": "916dbcbb3f70747c44a77c7bcd40155683ae19c65e1c03b4aa3499c5328201f1"
   }
  }
 },
 "nbformat": 4,
 "nbformat_minor": 2
}
